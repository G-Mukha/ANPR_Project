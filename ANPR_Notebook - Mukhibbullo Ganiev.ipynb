{
  "nbformat": 4,
  "nbformat_minor": 0,
  "metadata": {
    "colab": {
      "name": "mayssa.ipynb",
      "provenance": [],
      "collapsed_sections": []
    },
    "kernelspec": {
      "name": "python3",
      "display_name": "Python 3"
    },
    "language_info": {
      "name": "python"
    }
  },
  "cells": [
    {
      "cell_type": "code",
      "metadata": {
        "id": "LrHvfbJvUEkw"
      },
      "source": [
        ""
      ],
      "execution_count": null,
      "outputs": []
    },
    {
      "cell_type": "code",
      "metadata": {
        "id": "LvLtxHf-Rui9"
      },
      "source": [
        "import tensorflow as tf\n",
        "import numpy as np\n",
        "import cv2\n",
        "\n",
        "import os\n",
        "\n",
        "import time\n",
        "import six.moves.urllib as urllib\n",
        "import pathlib\n",
        "import PIL.Image as Image\n",
        "import pytesseract\n"
      ],
      "execution_count": null,
      "outputs": []
    },
    {
      "cell_type": "code",
      "metadata": {
        "id": "SHzb9saVRwEM"
      },
      "source": [
        "def load_model():\n",
        "    model_dir = \"\"\n",
        "    model = tf.saved_model.load(\"./\")\n",
        "    model = model.signatures['serving_default']\n",
        "    return model\n"
      ],
      "execution_count": null,
      "outputs": []
    },
    {
      "cell_type": "code",
      "metadata": {
        "colab": {
          "base_uri": "https://localhost:8080/"
        },
        "id": "hsCk8qZ-RyJC",
        "outputId": "03146133-014d-4c8f-e95c-a9ceea495425"
      },
      "source": [
        "category_index = {1: {'id': 1, 'name': 'license_plate'}}\n",
        "\n",
        "print(\" Loading Model \")\n",
        "detection_model = load_model()\n",
        "print(\" Model Loaded\")"
      ],
      "execution_count": null,
      "outputs": [
        {
          "output_type": "stream",
          "text": [
            " Loading Model \n",
            "INFO:tensorflow:Saver not created because there are no variables in the graph to restore\n",
            " Model Loaded\n"
          ],
          "name": "stdout"
        }
      ]
    },
    {
      "cell_type": "code",
      "metadata": {
        "id": "1KLFN2HuTJ3Y"
      },
      "source": [
        "img = np.array(Image.open(\"m.jpeg\"))\n",
        "img = cv2.resize(img, (300,300))\n",
        "tf_img = tf.convert_to_tensor(img)\n",
        "tf_img = tf.expand_dims(tf_img,axis=0)\n",
        "\n",
        "ss = time.time()\n"
      ],
      "execution_count": null,
      "outputs": []
    },
    {
      "cell_type": "code",
      "metadata": {
        "colab": {
          "base_uri": "https://localhost:8080/"
        },
        "id": "f3PIo06WTTpX",
        "outputId": "0d576d31-4522-4bcd-f6d5-81eea65f06e5"
      },
      "source": [
        "print(\" Running Model \")\n",
        "\n",
        "output = detection_model(tf_img)\n",
        "num_detections = int(output.pop('num_detections'))\n",
        "\n",
        "output = {key:value[0, :num_detections].numpy() \n",
        "                 for key,value in output.items()}\n",
        "\n",
        "xmin = int(output['detection_boxes'][0][0] * 300)\n",
        "xmax = int(output['detection_boxes'][0][2] * 300)\n",
        "ymin = int(output['detection_boxes'][0][1] * 300)\n",
        "ymax = int(output['detection_boxes'][0][3] * 300)\n",
        "\n",
        "image = cv2.rectangle(img, (ymin, xmin), (ymax, xmax),(255,0,0), 6) \n",
        "\n",
        "print(\" Saving Results \")\n",
        "\n",
        "print(\" Processed image in \", time.time()- ss , \"seconds\")"
      ],
      "execution_count": null,
      "outputs": [
        {
          "output_type": "stream",
          "text": [
            " Running Model \n",
            " Saving Results \n",
            " Processed image in  1.2870948314666748 seconds\n"
          ],
          "name": "stdout"
        }
      ]
    },
    {
      "cell_type": "code",
      "metadata": {
        "id": "BMXjhiedqJvc"
      },
      "source": [
        "\n",
        "mp = img[xmin:xmax,ymin:ymax]\n",
        "\n",
        "pytesseract.pytesseract.tesseract_cmd = r'C:\\Program Files\\Tesseract-OCR\\tesseract.exe'\n",
        "\n",
        "custom_config = r'--oem 3 --psm 6'\n",
        "pytesseract.image_to_string(mp, config=custom_config)"
      ],
      "execution_count": null,
      "outputs": []
    }
  ]
}